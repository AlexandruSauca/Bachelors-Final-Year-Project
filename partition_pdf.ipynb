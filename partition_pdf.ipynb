{
 "cells": [
  {
   "cell_type": "code",
   "execution_count": null,
   "metadata": {
    "id": "7Hmz7a8geInA"
   },
   "outputs": [],
   "source": [
    "from google.colab import drive\n",
    "drive.mount('/content/drive')"
   ]
  },
  {
   "cell_type": "code",
   "execution_count": null,
   "metadata": {
    "colab": {
     "base_uri": "https://localhost:8080/"
    },
    "executionInfo": {
     "elapsed": 7580,
     "status": "ok",
     "timestamp": 1761409288756,
     "user": {
      "displayName": "Alexandru Sauca",
      "userId": "13096706468398776836"
     },
     "user_tz": -180
    },
    "id": "bFL5e16AJNRb",
    "outputId": "8d061858-b04d-42a4-bbbd-f22baff0aba7"
   },
   "outputs": [],
   "source": [
    "pip install \"unstructured[pdf]\""
   ]
  },
  {
   "cell_type": "code",
   "execution_count": null,
   "metadata": {
    "colab": {
     "base_uri": "https://localhost:8080/"
    },
    "executionInfo": {
     "elapsed": 13901,
     "status": "ok",
     "timestamp": 1761409306591,
     "user": {
      "displayName": "Alexandru Sauca",
      "userId": "13096706468398776836"
     },
     "user_tz": -180
    },
    "id": "CTG22nEOLMZh",
    "outputId": "3bb57505-4798-4b53-f214-c14f540f5780"
   },
   "outputs": [],
   "source": [
    "!apt-get update\n",
    "!apt-get install -y poppler-utils"
   ]
  },
  {
   "cell_type": "code",
   "execution_count": null,
   "metadata": {
    "colab": {
     "base_uri": "https://localhost:8080/",
     "height": 197,
     "referenced_widgets": [
      "e6a1340a2ad74f69bb3f38a686a76ca6",
      "34d242d35c8c4d0aac21234be54afa5d",
      "01f3a006140d4554bfb32176b9d1aead",
      "8e7eacd29e15487abf88aab455e8e17f",
      "cc4bbe2648064502b9116341f67c9885",
      "a0bae407c1eb4fd78d82ca688a39ce10",
      "d25748774f78444e9cec8210bb0cb65d",
      "6048c89ebaf841e3a3e811d720f5bb87",
      "5b9e48e7683d486497df0b7c27d8aaea",
      "4309c6c212f44d59a36eeb6ae4c91ccd",
      "6f1268ea224948fba56e2a9688e6e2f7",
      "4a370308e48c4abf83574bdee11ec2e3",
      "42ccc4e6d3024c63bb609cc96a0fd190",
      "9bda9ef1c83e4deca8317ead8e6c480e",
      "df7a5692de074719ad168d268f17b7ca",
      "9a570246e02a4e14942ab1aebfdad56c",
      "e4cd88366ca0466893d3b8cd2f68e7f1",
      "3f68d13baaf44512a2623542d2b0cc8a",
      "e6b3735601e6412584331a989680e2e8",
      "5909fecb3e4245b6932c1250bb990e53",
      "a93a7268d818448d873fc37000fe3ae5",
      "1224fd95696b45ed9a451071aefca7c4",
      "9b32992c98464a63af5f3ed628f3321d",
      "a4279d9a1cc24e648eeb0f958481bf56",
      "ca54450ec198482caca88a9ce1b0ca4f",
      "ce4f963f17944462a1428ae1061ae25e",
      "457786c416664b7ea4eda2eb6fe5f10f",
      "a1d56fdafb184f3c8938af3f2510170d",
      "7340c224cd984eae9944e63d92fe2803",
      "0829f8a565954e7fa237c94cb971f53e",
      "cd135509cfef431c96e02693f43adccd",
      "00bd006196c24f87910e21047c60bd97",
      "b57946794d9f416eb7bb6a302176f0e4",
      "374c8d995d7e49de9e84ffd970c1a1d0",
      "58a8ce6317084306bd4c55942dcc2af3",
      "291442a869614f779c86f7053fc95b77",
      "ca4ae3a87a1f49368b97874c4a5fbe8f",
      "3439a8ea945b4937941198acbe76b79e",
      "fb1f490fe0ef4704a8d12f3e5e719d60",
      "cf1f9c2ec0624d958d123296d097ad83",
      "208fd005d6244ae5b3985730672db2e7",
      "27fa53f053644d3289d546d7d37fc91c",
      "4efcbdd5e8c7455084a9de82e25d30d2",
      "e5ee377a04b94712bd5e42901b0bedee"
     ]
    },
    "executionInfo": {
     "elapsed": 209932,
     "status": "ok",
     "timestamp": 1761409521262,
     "user": {
      "displayName": "Alexandru Sauca",
      "userId": "13096706468398776836"
     },
     "user_tz": -180
    },
    "id": "EogSei5AKbQu",
    "outputId": "cda35803-1b83-48ee-d62e-e5e2acc690f8"
   },
   "outputs": [],
   "source": [
    "from unstructured.partition.pdf import partition_pdf\n",
    "\n",
    "file_path = \"/content/pdfs/1706.03762v7.pdf\"\n",
    "\n",
    "chunks = partition_pdf(\n",
    "    filename=file_path, # path to the PDF file to be partitioned\n",
    "    infer_table_structure=True, #enables automatic detection and structuring of tables within the document\n",
    "    strategy=\"hi_res\", #most accurate, but potentially slowest and most resource-intensive, strategy for analyzing a document's layout and content\n",
    "    extract_image_block_types=[\"Image\", \"Tables\"], #extracts images and tables locally\n",
    "    extract_image_block_output_dir=\"images\", #saves images and tables to the specified directory\n",
    "    extract_image_block_to_payload=True, #metadata with base64\n",
    "    chunking_strategy=\"by_title\",\n",
    "    max_characters=10000,\n",
    "    combine_text_under_n_chars=2000,\n",
    "    new_after_n_chars=6000,\n",
    ")"
   ]
  },
  {
   "cell_type": "code",
   "execution_count": null,
   "metadata": {
    "colab": {
     "base_uri": "https://localhost:8080/"
    },
    "executionInfo": {
     "elapsed": 5,
     "status": "ok",
     "timestamp": 1761409545542,
     "user": {
      "displayName": "Alexandru Sauca",
      "userId": "13096706468398776836"
     },
     "user_tz": -180
    },
    "id": "U0J_Qo-1MJXf",
    "outputId": "9ceb6d7f-4312-401a-9c09-a6062193cf0f"
   },
   "outputs": [],
   "source": [
    "len(chunks)"
   ]
  },
  {
   "cell_type": "markdown",
   "metadata": {
    "id": "Qti2j3PRNTTC"
   },
   "source": [
    "Atomic elemets"
   ]
  },
  {
   "cell_type": "code",
   "execution_count": null,
   "metadata": {
    "colab": {
     "base_uri": "https://localhost:8080/"
    },
    "executionInfo": {
     "elapsed": 6,
     "status": "ok",
     "timestamp": 1761409825620,
     "user": {
      "displayName": "Alexandru Sauca",
      "userId": "13096706468398776836"
     },
     "user_tz": -180
    },
    "id": "2tyd_v6_NGmw",
    "outputId": "416bfd55-6e91-4953-d1ea-0ab65283ced8"
   },
   "outputs": [],
   "source": [
    "chunks[1].metadata.orig_elements"
   ]
  },
  {
   "cell_type": "code",
   "execution_count": null,
   "metadata": {
    "colab": {
     "base_uri": "https://localhost:8080/"
    },
    "executionInfo": {
     "elapsed": 45,
     "status": "ok",
     "timestamp": 1761410299904,
     "user": {
      "displayName": "Alexandru Sauca",
      "userId": "13096706468398776836"
     },
     "user_tz": -180
    },
    "id": "yWqbpRuBNmDU",
    "outputId": "23e4fda3-462b-4ebf-8735-2412860b6c1f"
   },
   "outputs": [],
   "source": [
    "chunks[0].to_dict()"
   ]
  },
  {
   "cell_type": "code",
   "execution_count": null,
   "metadata": {
    "colab": {
     "base_uri": "https://localhost:8080/"
    },
    "executionInfo": {
     "elapsed": 26,
     "status": "ok",
     "timestamp": 1761410512584,
     "user": {
      "displayName": "Alexandru Sauca",
      "userId": "13096706468398776836"
     },
     "user_tz": -180
    },
    "id": "IyGn5FxNPgSV",
    "outputId": "6534c5e2-ce27-42c1-8851-d2cbe7f9c2fe"
   },
   "outputs": [],
   "source": [
    "elements = chunks[3].metadata.orig_elements\n",
    "chunk_images = [el for el in elements if 'Image' in str(type(el))]\n",
    "chunk_images[0].to_dict()"
   ]
  },
  {
   "cell_type": "code",
   "execution_count": null,
   "metadata": {
    "executionInfo": {
     "elapsed": 5,
     "status": "ok",
     "timestamp": 1761411070055,
     "user": {
      "displayName": "Alexandru Sauca",
      "userId": "13096706468398776836"
     },
     "user_tz": -180
    },
    "id": "Yiguo2dYRZb4"
   },
   "outputs": [],
   "source": [
    "tables = []\n",
    "texts= []\n",
    "for chunk in chunks:\n",
    "  if 'Table' in str(type(chunk)):\n",
    "    tables.append(chunk)\n",
    "  if 'CompositeElement' in str(type(chunk)):\n",
    "    texts.append(chunk)"
   ]
  },
  {
   "cell_type": "code",
   "execution_count": null,
   "metadata": {
    "colab": {
     "base_uri": "https://localhost:8080/"
    },
    "executionInfo": {
     "elapsed": 4,
     "status": "ok",
     "timestamp": 1761411889346,
     "user": {
      "displayName": "Alexandru Sauca",
      "userId": "13096706468398776836"
     },
     "user_tz": -180
    },
    "id": "lbiPIwQXU_Fp",
    "outputId": "9f07b073-2e63-44c2-dcf6-99da728db395"
   },
   "outputs": [],
   "source": [
    "len(texts)"
   ]
  },
  {
   "cell_type": "code",
   "execution_count": null,
   "metadata": {
    "executionInfo": {
     "elapsed": 13,
     "status": "ok",
     "timestamp": 1761411437528,
     "user": {
      "displayName": "Alexandru Sauca",
      "userId": "13096706468398776836"
     },
     "user_tz": -180
    },
    "id": "0of68KjVST9j"
   },
   "outputs": [],
   "source": [
    "def get_images_base64(chunks):\n",
    "  image_64=[]\n",
    "  for chunk in chunks:\n",
    "    if 'CompositeElement' in str(type(chunk)):\n",
    "      chunk_el =chunk.metadata.orig_elements\n",
    "      for el in chunk_el:\n",
    "        if 'Image' in str(type(el)):\n",
    "          image_64.append(el.metadata.image_base64)\n",
    "  return image_64\n",
    "images = get_images_base64(chunks)\n"
   ]
  },
  {
   "cell_type": "code",
   "execution_count": null,
   "metadata": {
    "colab": {
     "base_uri": "https://localhost:8080/"
    },
    "executionInfo": {
     "elapsed": 8,
     "status": "ok",
     "timestamp": 1761411850665,
     "user": {
      "displayName": "Alexandru Sauca",
      "userId": "13096706468398776836"
     },
     "user_tz": -180
    },
    "id": "R3Pvk_arU8jQ",
    "outputId": "fe1cf14c-c3ea-4677-8b40-7efb2e658c30"
   },
   "outputs": [],
   "source": [
    "len(images)"
   ]
  },
  {
   "cell_type": "code",
   "execution_count": null,
   "metadata": {
    "colab": {
     "base_uri": "https://localhost:8080/",
     "height": 529
    },
    "executionInfo": {
     "elapsed": 60,
     "status": "ok",
     "timestamp": 1761411842028,
     "user": {
      "displayName": "Alexandru Sauca",
      "userId": "13096706468398776836"
     },
     "user_tz": -180
    },
    "id": "UZmHyXGrTytX",
    "outputId": "1a822ddc-ec83-4213-e5f0-24dc7de39051"
   },
   "outputs": [],
   "source": [
    "import base64\n",
    "from IPython.display import Image, display\n",
    "\n",
    "def display_image_base64(base64_code):\n",
    "  image_data= base64.b64decode(base64_code) #decode base64 to binary\n",
    "  display(Image(data=image_data))\n",
    "\n",
    "display_image_base64(images[2])\n"
   ]
  }
 ],
 "metadata": {
  "colab": {
   "authorship_tag": "ABX9TyOUO7q+amwnbsN9pq48B7gJ",
   "provenance": []
  },
  "kernelspec": {
   "display_name": "Python 3",
   "name": "python3"
  },
  "language_info": {
   "name": "python"
  }
 },
 "nbformat": 4,
 "nbformat_minor": 0
}
